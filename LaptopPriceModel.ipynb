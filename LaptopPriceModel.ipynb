{
  "nbformat": 4,
  "nbformat_minor": 0,
  "metadata": {
    "colab": {
      "provenance": [],
      "include_colab_link": true
    },
    "kernelspec": {
      "name": "python3",
      "display_name": "Python 3"
    },
    "language_info": {
      "name": "python"
    }
  },
  "cells": [
    {
      "cell_type": "markdown",
      "metadata": {
        "id": "view-in-github",
        "colab_type": "text"
      },
      "source": [
        "<a href=\"https://colab.research.google.com/github/RightFix/LaptopPricePredictionModel/blob/main/LaptopPriceModel.ipynb\" target=\"_parent\"><img src=\"https://colab.research.google.com/assets/colab-badge.svg\" alt=\"Open In Colab\"/></a>"
      ]
    },
    {
      "cell_type": "markdown",
      "source": [
        "Contributors\n",
        "\n",
        "Ude Righteousness Nwannennaya - 23/EG/CO/014,\n",
        "\n",
        "Essien Ubong Bassey - 23/EG/CO/009,"
      ],
      "metadata": {
        "id": "SPkNZ6VEc4ym"
      }
    },
    {
      "cell_type": "code",
      "metadata": {
        "id": "90e64211"
      },
      "source": [
        "from google.colab import drive\n",
        "drive.mount('/content/drive')"
      ],
      "execution_count": null,
      "outputs": []
    },
    {
      "cell_type": "markdown",
      "source": [
        "Location Of Folder In Directory (if it in MyDrive Directory)"
      ],
      "metadata": {
        "id": "sG0BieM-R_pY"
      }
    },
    {
      "cell_type": "code",
      "source": [
        "cd /content/drive/MyDrive/Group_K_Project"
      ],
      "metadata": {
        "id": "IU2S-qIZssG7"
      },
      "execution_count": null,
      "outputs": []
    },
    {
      "cell_type": "markdown",
      "source": [
        "Import Necessary Libraries In This Cell Below"
      ],
      "metadata": {
        "id": "rESkfC_BRy4g"
      }
    },
    {
      "cell_type": "code",
      "source": [
        "import pandas as pd\n",
        "import numpy as np\n",
        "import seaborn as sns\n",
        "import matplotlib.pyplot as plt\n",
        "from sklearn.model_selection import train_test_split as split\n",
        "from sklearn.linear_model import LinearRegression"
      ],
      "metadata": {
        "id": "V3XJ9MjaukEX"
      },
      "execution_count": null,
      "outputs": []
    },
    {
      "cell_type": "code",
      "source": [
        "df = pd.read_csv(\"dataset/laptop_price.csv\")"
      ],
      "metadata": {
        "id": "XBtXjABPNv2R"
      },
      "execution_count": null,
      "outputs": []
    },
    {
      "cell_type": "markdown",
      "source": [
        "Dataset Overview"
      ],
      "metadata": {
        "id": "S-ihVY3OiK6e"
      }
    },
    {
      "cell_type": "code",
      "source": [
        "df.head()"
      ],
      "metadata": {
        "id": "HByXW-eMRoct"
      },
      "execution_count": null,
      "outputs": []
    },
    {
      "cell_type": "code",
      "source": [
        "df.tail()"
      ],
      "metadata": {
        "id": "9aB3yB3ldKut"
      },
      "execution_count": null,
      "outputs": []
    },
    {
      "cell_type": "code",
      "source": [
        "df.columns"
      ],
      "metadata": {
        "id": "2VMgIYj9hEQJ"
      },
      "execution_count": null,
      "outputs": []
    },
    {
      "cell_type": "code",
      "source": [
        "df.sample(5)"
      ],
      "metadata": {
        "id": "hunCVbrNyG4v"
      },
      "execution_count": null,
      "outputs": []
    },
    {
      "cell_type": "code",
      "source": [
        "df.info()"
      ],
      "metadata": {
        "id": "h8rz7vIlRuv6"
      },
      "execution_count": null,
      "outputs": []
    },
    {
      "cell_type": "code",
      "source": [
        "df.describe()"
      ],
      "metadata": {
        "id": "EK-eg55qdUWz"
      },
      "execution_count": null,
      "outputs": []
    },
    {
      "cell_type": "code",
      "source": [
        "df.describe(include = \"object\")"
      ],
      "metadata": {
        "id": "AoDBv6Scdday"
      },
      "execution_count": null,
      "outputs": []
    },
    {
      "cell_type": "markdown",
      "source": [
        "Data Cleaning And Analysis"
      ],
      "metadata": {
        "id": "I7cUN17iik0X"
      }
    },
    {
      "cell_type": "code",
      "source": [
        "#Standardise columns name by making it lowercase\n",
        "df.columns = df.columns.str.replace(\" \",\"_\").str.lower()\n",
        "df.columns"
      ],
      "metadata": {
        "id": "hmcLxmGuhX3Z"
      },
      "execution_count": null,
      "outputs": []
    },
    {
      "cell_type": "code",
      "source": [
        "# Dropping the laptop_ID column because it isn't need in the analysis\n",
        "# Using data variable instead of df so as not to tamper with the original dataset\n",
        "data = df.drop(columns= \"laptop_id\")\n",
        "data.head()"
      ],
      "metadata": {
        "id": "RfNu3nk8fAkv"
      },
      "execution_count": null,
      "outputs": []
    },
    {
      "cell_type": "code",
      "source": [
        "# Remove duplicate samples\n",
        "data = data.drop_duplicates()\n",
        "data.head()"
      ],
      "metadata": {
        "id": "YxuMtyPfPUtq"
      },
      "execution_count": null,
      "outputs": []
    },
    {
      "cell_type": "code",
      "source": [
        "data.isnull().sum()"
      ],
      "metadata": {
        "id": "8L8Zq5LljmwP"
      },
      "execution_count": null,
      "outputs": []
    },
    {
      "cell_type": "code",
      "source": [
        "# Filling null value with the mode of their column\n",
        "data.gpu = data.gpu.fillna(data.gpu.mode()[0])\n",
        "data.weight= data.weight.fillna(data.weight.mode()[0])\n",
        "data.isnull().sum()"
      ],
      "metadata": {
        "id": "Swrzy8zxuCA-"
      },
      "execution_count": null,
      "outputs": []
    },
    {
      "cell_type": "code",
      "source": [
        "#value count of each columns\n",
        "for col in data.columns:\n",
        "  print(data[col].value_counts())\n",
        "  print(\"\\n\\n\")"
      ],
      "metadata": {
        "id": "SpQMZo69uiTf"
      },
      "execution_count": null,
      "outputs": []
    },
    {
      "cell_type": "code",
      "source": [
        "# Countplot for all non-numeric columns\n",
        "\n",
        "for cols in data.select_dtypes(include= \"object\"):\n",
        "  plt.figure(figsize = (20,5))\n",
        "  sns.countplot(data= data, x =cols)\n",
        "  plt.title(f\"Count Plot For {cols}\".capitalize())\n",
        "  plt.xticks(rotation = 90)\n",
        "  plt.show()"
      ],
      "metadata": {
        "id": "2Y0zr1D_xeV_"
      },
      "execution_count": null,
      "outputs": []
    },
    {
      "cell_type": "code",
      "source": [
        "# Barplot for all non-numeric columns by Price\n",
        "\n",
        "for cols in data.select_dtypes(include= \"object\"):\n",
        "  plt.figure(figsize = (20,5))\n",
        "  sns.barplot(data= data, x =cols, y= \"price_euros\")\n",
        "  plt.title(f\"Bar Plot For {cols} Vs Price in Euros(£)\".capitalize())\n",
        "  plt.xticks(rotation = 90)\n",
        "  plt.show()"
      ],
      "metadata": {
        "id": "P7--IXmb8D5e"
      },
      "execution_count": null,
      "outputs": []
    },
    {
      "cell_type": "code",
      "source": [
        "data.info()"
      ],
      "metadata": {
        "id": "FObWQdGmkP2-"
      },
      "execution_count": null,
      "outputs": []
    },
    {
      "cell_type": "code",
      "source": [
        "x = data.drop([\"price_euros\"], axis=1 ) # Independent variable (predictor)\n",
        "y = data[\"price_euros\"] # Dependent variable (target)"
      ],
      "metadata": {
        "id": "hVFjMCH2m8k6"
      },
      "execution_count": null,
      "outputs": []
    },
    {
      "cell_type": "code",
      "source": [
        "x_train, x_test, y_train, y_test = split(x, y, random_state=42)"
      ],
      "metadata": {
        "id": "uIK6b_YsABVA"
      },
      "execution_count": null,
      "outputs": []
    },
    {
      "cell_type": "code",
      "source": [
        "print(x_train.shape, y_train.shape)"
      ],
      "metadata": {
        "id": "GT4wugp0m88X"
      },
      "execution_count": null,
      "outputs": []
    },
    {
      "cell_type": "code",
      "source": [
        "multiple = LinearRegression()"
      ],
      "metadata": {
        "id": "OpE9H7lbAxvO"
      },
      "execution_count": null,
      "outputs": []
    },
    {
      "cell_type": "code",
      "source": [
        "# Train the model on the training data\n",
        "multiple.fit(x_train, y_train)"
      ],
      "metadata": {
        "id": "3YGJBMakAeZr"
      },
      "execution_count": null,
      "outputs": []
    }
  ]
}